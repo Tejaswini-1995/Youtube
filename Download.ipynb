{
  "nbformat": 4,
  "nbformat_minor": 0,
  "metadata": {
    "colab": {
      "name": "Download.ipynb",
      "provenance": [],
      "collapsed_sections": [],
      "authorship_tag": "ABX9TyNmS+WtTapmnnuDLMgKsiJ8",
      "include_colab_link": true
    },
    "kernelspec": {
      "name": "python3",
      "display_name": "Python 3"
    }
  },
  "cells": [
    {
      "cell_type": "markdown",
      "metadata": {
        "id": "view-in-github",
        "colab_type": "text"
      },
      "source": [
        "<a href=\"https://colab.research.google.com/github/Tejaswini-1995/Youtube/blob/main/Download.ipynb\" target=\"_parent\"><img src=\"https://colab.research.google.com/assets/colab-badge.svg\" alt=\"Open In Colab\"/></a>"
      ]
    },
    {
      "cell_type": "code",
      "metadata": {
        "colab": {
          "base_uri": "https://localhost:8080/",
          "height": 363
        },
        "id": "oElYUBPWT1AN",
        "outputId": "edcd9f9d-123a-4d77-d1d4-389aa5201de6"
      },
      "source": [
        "from tkinter import *\r\n",
        "from tkinter import ttk\r\n",
        "from tkinter import filedialog\r\n",
        "from pytube import YouTube\r\n",
        "Folder_Name = \"\"\r\n",
        "#File Location\r\n",
        "def openLocation():\r\n",
        "    global Folder_Name\r\n",
        "    Folder_Name = filedialog.askdirectory()\r\n",
        "    if(len(Folder_Name)>1):\r\n",
        "        locationError.config(text=Folder_Name, fg =\"green\")\r\n",
        "    else:\r\n",
        "        locationError.config(text=\"please choose Folder!\", fg= \"red\")\r\n",
        "\r\n",
        "# download video\r\n",
        "def DownloadVideo():\r\n",
        "    choice = ytdchoices.get()\r\n",
        "    url = ytdEntry.get()\r\n",
        "    if (len(url)>1):\r\n",
        "        ytdError.config(text=\"\")\r\n",
        "        yt = YouTube(url)\r\n",
        "\r\n",
        "        if (choice == choices[0]):\r\n",
        "            select= yt.streams.filter(progressive = True, file_extension= 'mp4').first()\r\n",
        "        elif (choice == choices[1]):\r\n",
        "            select= yt.streams.filter(progressive = True, file_extension= 'mp4').last()\r\n",
        "        elif (choice == choices[2]):\r\n",
        "            select= yt.streams.filter(progressive = True, file_extension= 'mp4').first()\r\n",
        "        else:\r\n",
        "            ytdError.confi(text= \"Paste Link again!\", fg=\"red\")\r\n",
        "    #download Function\r\n",
        "    select.download(Folder_Name)\r\n",
        "    ytdError.config(text=\"Donload Completed!\")\r\n",
        "\r\n",
        "\r\n",
        "\r\n",
        "root = Tk()\r\n",
        "root.title(\"YouTube Downloader window\")\r\n",
        "root.geometry(\"450x500\") # set Window size\r\n",
        "root.grid_columnconfigure(0,weight=1) #set all content in center\r\n",
        "\r\n",
        "#Youtube Link Label\r\n",
        "ytdLabel = Label(root, text=\"Enter the URL\", font=(\"Arial\",16))\r\n",
        "ytdLabel.grid()\r\n",
        "\r\n",
        "#Entry Box\r\n",
        "ytdEntryVar = StringVar()\r\n",
        "ytdEntry = Entry(root, width=60,textvariable=ytdEntryVar)\r\n",
        "ytdEntry.grid()\r\n",
        "\r\n",
        "#Error Msg\r\n",
        "ytdError = Label(root, text=\"Error Msg\", fg= \"red\", font=(\"Arial\",16))\r\n",
        "ytdError.grid()\r\n",
        "\r\n",
        "#Asking save file folder\r\n",
        "saveLabel = Label(root, text=\"save the video file\", font=(\"Arial\",16, \"bold\"))\r\n",
        "saveLabel.grid()\r\n",
        "\r\n",
        "#Button to save file\r\n",
        "saveEntry = Button(root, width=10, bg = \"red\", fg = \"white\", text=\"Choose Path\", command=openLocation)\r\n",
        "saveEntry.grid()\r\n",
        "\r\n",
        "#Error msg location\r\n",
        "locationError = Label(root, text=\"Error Msg of Path\", fg=\"red\", font=(\"Arial\",12))\r\n",
        "locationError.grid()\r\n",
        "\r\n",
        "#Download Quality\r\n",
        "ytdQuality = Label(root, text=\"select Quality\", font=(\"Arial\",16))\r\n",
        "ytdQuality.grid()\r\n",
        "\r\n",
        "#combobox\r\n",
        "choices= [\"144p\", \"240p\",\"360p\", \"only Audio\"]\r\n",
        "ytdchoices = ttk.Combobox(root, values= choices)\r\n",
        "ytdchoices.grid()\r\n",
        "\r\n",
        "#Download Button\r\n",
        "downloadbtn = Button(root, text=\"Download\", width=10, bg=\"blue\", fg=\"white\", command= DownloadVideo)\r\n",
        "downloadbtn.grid()\r\n",
        "\r\n",
        "#developer Label\r\n",
        "developerlabel = Label(root, text=\"Developers\", font=(\"Arial\",16))\r\n",
        "developerlabel.grid()\r\n",
        "\r\n",
        "\r\n",
        "root.mainloop()"
      ],
      "execution_count": null,
      "outputs": [
        {
          "output_type": "error",
          "ename": "ModuleNotFoundError",
          "evalue": "ignored",
          "traceback": [
            "\u001b[0;31m---------------------------------------------------------------------------\u001b[0m",
            "\u001b[0;31mModuleNotFoundError\u001b[0m                       Traceback (most recent call last)",
            "\u001b[0;32m<ipython-input-4-fc6942ade44f>\u001b[0m in \u001b[0;36m<module>\u001b[0;34m()\u001b[0m\n\u001b[1;32m      2\u001b[0m \u001b[0;32mfrom\u001b[0m \u001b[0mtkinter\u001b[0m \u001b[0;32mimport\u001b[0m \u001b[0mttk\u001b[0m\u001b[0;34m\u001b[0m\u001b[0;34m\u001b[0m\u001b[0m\n\u001b[1;32m      3\u001b[0m \u001b[0;32mfrom\u001b[0m \u001b[0mtkinter\u001b[0m \u001b[0;32mimport\u001b[0m \u001b[0mfiledialog\u001b[0m\u001b[0;34m\u001b[0m\u001b[0;34m\u001b[0m\u001b[0m\n\u001b[0;32m----> 4\u001b[0;31m \u001b[0;32mfrom\u001b[0m \u001b[0mpytube\u001b[0m \u001b[0;32mimport\u001b[0m \u001b[0mYouTube\u001b[0m\u001b[0;34m\u001b[0m\u001b[0;34m\u001b[0m\u001b[0m\n\u001b[0m\u001b[1;32m      5\u001b[0m \u001b[0mFolder_Name\u001b[0m \u001b[0;34m=\u001b[0m \u001b[0;34m\"\"\u001b[0m\u001b[0;34m\u001b[0m\u001b[0;34m\u001b[0m\u001b[0m\n\u001b[1;32m      6\u001b[0m \u001b[0;31m#File Location\u001b[0m\u001b[0;34m\u001b[0m\u001b[0;34m\u001b[0m\u001b[0;34m\u001b[0m\u001b[0m\n",
            "\u001b[0;31mModuleNotFoundError\u001b[0m: No module named 'pytube'",
            "",
            "\u001b[0;31m---------------------------------------------------------------------------\u001b[0;32m\nNOTE: If your import is failing due to a missing package, you can\nmanually install dependencies using either !pip or !apt.\n\nTo view examples of installing some common dependencies, click the\n\"Open Examples\" button below.\n\u001b[0;31m---------------------------------------------------------------------------\u001b[0m\n"
          ]
        }
      ]
    },
    {
      "cell_type": "code",
      "metadata": {
        "id": "18xacu66WegG"
      },
      "source": [
        ""
      ],
      "execution_count": null,
      "outputs": []
    },
    {
      "cell_type": "code",
      "metadata": {
        "id": "VI3B6LEqWeqX"
      },
      "source": [
        ""
      ],
      "execution_count": null,
      "outputs": []
    }
  ]
}